{
  "cells": [
    {
      "cell_type": "raw",
      "metadata": {},
      "source": [
        "---\n",
        "title: \"Data Visualization\"\n",
        "---"
      ],
      "id": "2f1fb47f"
    },
    {
      "cell_type": "markdown",
      "metadata": {},
      "source": [
        "This page has information about data visualization, containing types of plots, use cases, and how to implement using various python libraries.\n",
        "\n",
        "# Implementation\n",
        "\n",
        "Importing libraries using the standard of the industry\n"
      ],
      "id": "c3c5de6c"
    },
    {
      "cell_type": "code",
      "metadata": {},
      "source": [
        "import matplotlib.pyplot as plt\n",
        "import numpy as np"
      ],
      "id": "bc9b3214",
      "execution_count": null,
      "outputs": []
    },
    {
      "cell_type": "markdown",
      "metadata": {},
      "source": [
        "## PyPlot (matplotlib)\n"
      ],
      "id": "60247045"
    },
    {
      "cell_type": "code",
      "metadata": {},
      "source": [
        "fig, ax = plt.subplots() # Create a figure containing a single axes\n",
        "ax.plot([1,2,3,4], [1,4,2,3]); # plot some data on the axes"
      ],
      "id": "22bc769d",
      "execution_count": null,
      "outputs": []
    },
    {
      "cell_type": "code",
      "metadata": {},
      "source": [
        "# linspace\n",
        "# Return evenly spaced numbers over a specified interval.\n",
        "# Returns num evenly spaced samples, calculated over the interval [start, stop].\n",
        "\n",
        "#The endpoint of the interval can optionally be excluded.\n",
        "\n",
        "x = np.linspace(0,5,11)\n",
        "y = x**2\n",
        "print(x)\n",
        "print(y)\n",
        "\n",
        "plt.plot(x,y,'rx')\n",
        "plt.show()"
      ],
      "id": "195aa811",
      "execution_count": null,
      "outputs": []
    },
    {
      "cell_type": "code",
      "metadata": {},
      "source": [
        "plt.plot(x,y,'b.')\n",
        "plt.show()"
      ],
      "id": "55e41724",
      "execution_count": null,
      "outputs": []
    },
    {
      "cell_type": "code",
      "metadata": {},
      "source": [
        "plt.plot(x,y,'rs-')\n",
        "plt.show()"
      ],
      "id": "d6cc2d1f",
      "execution_count": null,
      "outputs": []
    },
    {
      "cell_type": "code",
      "metadata": {},
      "source": [
        "plt.plot(x,y,'yD:')\n",
        "plt.show()"
      ],
      "id": "d1925d21",
      "execution_count": null,
      "outputs": []
    },
    {
      "cell_type": "code",
      "metadata": {},
      "source": [
        "plt.hist(x)\n",
        "plt.show()"
      ],
      "id": "983b9a4c",
      "execution_count": null,
      "outputs": []
    },
    {
      "cell_type": "code",
      "metadata": {},
      "source": [
        "plt.pie(x)\n",
        "plt.show()"
      ],
      "id": "5c4ad1f6",
      "execution_count": null,
      "outputs": []
    },
    {
      "cell_type": "code",
      "metadata": {},
      "source": [
        "plt.scatter(x,y)\n",
        "plt.show()"
      ],
      "id": "e2ef188b",
      "execution_count": null,
      "outputs": []
    },
    {
      "cell_type": "code",
      "metadata": {},
      "source": [
        "plt.boxplot(x)\n",
        "plt.show()"
      ],
      "id": "2f8262d8",
      "execution_count": null,
      "outputs": []
    },
    {
      "cell_type": "markdown",
      "metadata": {},
      "source": [
        "## Subplots\n"
      ],
      "id": "35ecf0f8"
    },
    {
      "cell_type": "code",
      "metadata": {},
      "source": [
        "plt.subplot(1,2,1) # Chart 1\n",
        "plt.plot(x,y,'r--')\n",
        "\n",
        "plt.subplot(1,2,2)  # Chart 2\n",
        "plt.pie(y)\n",
        "plt.show()"
      ],
      "id": "819c7d9b",
      "execution_count": null,
      "outputs": []
    },
    {
      "cell_type": "code",
      "metadata": {},
      "source": [
        "plt.subplot(1,2,1)       # 1 row, 2 columns, Ref 1\n",
        "plt.plot(x,y,'r--')\n",
        "plt.plot(y,x,'b:')       # Keep sama reference, adding another line\n",
        "plt.subplot(1,2,2)       # Ref to plot #2\n",
        "plt.pie(y)\n",
        "plt.show()"
      ],
      "id": "267aed9f",
      "execution_count": null,
      "outputs": []
    },
    {
      "cell_type": "code",
      "metadata": {},
      "source": [
        "plt.subplot(2,1,1)\n",
        "plt.plot(x,y,'r--')\n",
        "plt.plot(y,x,'b:')\n",
        "plt.subplot(2,1,2)\n",
        "plt.pie(y)\n",
        "plt.show()"
      ],
      "id": "738b3062",
      "execution_count": null,
      "outputs": []
    },
    {
      "cell_type": "markdown",
      "metadata": {},
      "source": [
        "### Object-Oriented Method\n"
      ],
      "id": "8c8f0ae9"
    },
    {
      "cell_type": "code",
      "metadata": {},
      "source": [
        "x1= np.linspace(0, 2*np.pi,400)\n",
        "y1 = np.sin(x1**2)"
      ],
      "id": "25dee969",
      "execution_count": null,
      "outputs": []
    },
    {
      "cell_type": "code",
      "metadata": {},
      "source": [
        "fig, ax1 = plt.subplots()\n",
        "ax1.plot(x1,y1)\n",
        "fig.show()"
      ],
      "id": "f83cc002",
      "execution_count": null,
      "outputs": []
    },
    {
      "cell_type": "code",
      "metadata": {},
      "source": [
        "fig = plt.figure()   # Empty canvas (figure)\n",
        "axes = fig.add_axes([0,0,0.5,0.5])   #  Add axes\n",
        "axes.plot(x,y,'b')\n",
        "fig.show()"
      ],
      "id": "720e4f84",
      "execution_count": null,
      "outputs": []
    },
    {
      "cell_type": "code",
      "metadata": {},
      "source": [
        "fig = plt.figure()\n",
        "\n",
        "axes = fig.add_axes([0.1,0.1,0.8,0.9]) # eje principal\n",
        "axes2 = fig.add_axes([0.2,0.55,0.4,0.3]) # eje interior\n",
        "# principal fig axes\n",
        "axes.plot(x,y,'b')\n",
        "# secondary fig axes2\n",
        "axes2.plot(y,x,'r')\n",
        "axes2.set_facecolor('lightgray')\n",
        "\n",
        "fig.show()"
      ],
      "id": "0b14987d",
      "execution_count": null,
      "outputs": []
    },
    {
      "cell_type": "code",
      "metadata": {},
      "source": [
        "fig, (ax1,ax2) = plt.subplots(1,2)"
      ],
      "id": "b319bcc5",
      "execution_count": null,
      "outputs": []
    },
    {
      "cell_type": "code",
      "metadata": {},
      "source": [
        "fig, ax1 = plt.subplots()"
      ],
      "id": "b3b71b94",
      "execution_count": null,
      "outputs": []
    },
    {
      "cell_type": "code",
      "metadata": {},
      "source": [
        "fig = plt.figure()\n",
        "axes = fig.add_axes([0,0,0.5,0.5])\n",
        "\n",
        "axes2 = fig.add_axes ([0.6,0,0.5,0.5])\n",
        "axes3 = fig.add_axes ([0,-0.6,0.5,0.5])\n",
        "axes4 = fig.add_axes ([0.6,-0.6,0.5,0.5])\n",
        "\n",
        "axes.set_facecolor('green')\n",
        "axes2.set_facecolor('blue')\n",
        "axes3.set_facecolor('yellow')\n",
        "axes4.set_facecolor('red')"
      ],
      "id": "b108d5eb",
      "execution_count": null,
      "outputs": []
    },
    {
      "cell_type": "code",
      "metadata": {},
      "source": [
        "fig, axs = plt.subplots(2,2)\n",
        "axs[0,0].set_facecolor('green')\n",
        "axs[0,1].set_facecolor('yellow')\n",
        "axs[1,0].set_facecolor('red')\n",
        "axs[1,1].set_facecolor('purple')\n",
        "fig.set_facecolor('gray')"
      ],
      "id": "2c6e2ec5",
      "execution_count": null,
      "outputs": []
    },
    {
      "cell_type": "code",
      "metadata": {},
      "source": [
        "x=np.linspace(0,10,200)\n",
        "y=np.sin(x)"
      ],
      "id": "03f5a030",
      "execution_count": null,
      "outputs": []
    },
    {
      "cell_type": "code",
      "metadata": {},
      "source": [
        "fig, axes = plt.subplots()\n",
        "axes.plot(x,y,'r')\n",
        "fig.show()"
      ],
      "id": "c4b21258",
      "execution_count": null,
      "outputs": []
    },
    {
      "cell_type": "code",
      "metadata": {},
      "source": [
        "fig, axes = plt.subplots(nrows=1, ncols=2)\n",
        "axes[0].plot(x,y,'r')\n",
        "axes[1].plot(y,x,'b')\n",
        "fig.show()"
      ],
      "id": "2dab23fe",
      "execution_count": null,
      "outputs": []
    },
    {
      "cell_type": "code",
      "metadata": {},
      "source": [
        "fig, axes = plt.subplots(nrows=2, ncols=4)\n",
        "axes[0,0].plot(x,np.cos(x),'r')\n",
        "axes[0,1].plot(x,np.sin(x),'g')\n",
        "axes[0,2].plot(x,np.tan(x),'y')\n",
        "axes[0,3].plot(x,np.cos(x)**2,'b')\n",
        "fig.tight_layout()\n",
        "fig.show()"
      ],
      "id": "042440f2",
      "execution_count": null,
      "outputs": []
    },
    {
      "cell_type": "code",
      "metadata": {},
      "source": [
        "fig, axes = plt.subplots(1,2, figsize=(8,5))\n",
        "axes[0].plot(x,y)\n",
        "axes[0].set_title('Relation X and Y')\n",
        "axes[0].set_xlabel('X')\n",
        "axes[0].set_ylabel('Y')\n",
        "\n",
        "axes[1].plot(y,x)\n",
        "axes[1].set_title('Relation Y and X')\n",
        "axes[1].set_xlabel('Y')\n",
        "axes[1].set_ylabel('X')\n",
        "\n",
        "fig.show()"
      ],
      "id": "eb7a6663",
      "execution_count": null,
      "outputs": []
    },
    {
      "cell_type": "code",
      "metadata": {},
      "source": [
        "plt.plot(x,y,label='sin(x)')\n",
        "plt.title('This is a title')\n",
        "plt.xlabel('X')\n",
        "plt.ylabel('Y')\n",
        "plt.legend() # plt.legend(loc='lower right')\n",
        "plt.show()"
      ],
      "id": "86beb068",
      "execution_count": null,
      "outputs": []
    },
    {
      "cell_type": "markdown",
      "metadata": {},
      "source": [
        "### Color and Style\n"
      ],
      "id": "2ec7652e"
    },
    {
      "cell_type": "code",
      "metadata": {},
      "source": [
        "x=np.linspace(0,10,10)\n",
        "y=np.sin(x)"
      ],
      "id": "d6d204f3",
      "execution_count": null,
      "outputs": []
    },
    {
      "cell_type": "code",
      "metadata": {},
      "source": [
        "print(plt.style.available)"
      ],
      "id": "3df2b727",
      "execution_count": null,
      "outputs": []
    },
    {
      "cell_type": "code",
      "metadata": {},
      "source": [
        "plt.style.use('dark_background')"
      ],
      "id": "fd0a5400",
      "execution_count": null,
      "outputs": []
    },
    {
      "cell_type": "code",
      "metadata": {},
      "source": [
        "fig, ax = plt.subplots()\n",
        "ax.plot(x,x+1,'r--')\n",
        "ax.plot(x,x+2,'b-')\n",
        "ax.plot(x,x+3,'y.-')\n",
        "ax.plot(x,x+4,'g:')"
      ],
      "id": "9a8d1470",
      "execution_count": null,
      "outputs": []
    },
    {
      "cell_type": "code",
      "metadata": {},
      "source": [
        "fig, ax = plt.subplots()\n",
        "ax.plot(x,x+1,color='red',linewidth=1, linestyle ='--')\n",
        "ax.plot(x,x+2,color='blue', linewidth=2, marker ='8')\n",
        "ax.plot(x,x+3,color='#FFCC22', marker='d')\n",
        "ax.plot(x,x+4,color='#00FF00', alpha=0.5, linewidth=5, linestyle =':')"
      ],
      "id": "09c7c539",
      "execution_count": null,
      "outputs": []
    },
    {
      "cell_type": "markdown",
      "metadata": {},
      "source": [
        "### Categorical Variables\n"
      ],
      "id": "eb57e74b"
    },
    {
      "cell_type": "code",
      "metadata": {},
      "source": [
        "plt.style.use('classic')\n",
        "data = np.random.randint(1, 50, 100)"
      ],
      "id": "95f1abcc",
      "execution_count": null,
      "outputs": []
    },
    {
      "cell_type": "code",
      "metadata": {},
      "source": [
        "country = ['USA', 'INDIA', 'JAPAN', 'CHILE', 'MEXICO']\n",
        "population = [350, 1408, 125, 20, 126]"
      ],
      "id": "2d1b3c8b",
      "execution_count": null,
      "outputs": []
    },
    {
      "cell_type": "code",
      "metadata": {},
      "source": [
        "#plt.bar(country,population)\n",
        "plt.bar(country,population, width=0.5, color=['red','blue'])\n",
        "plt.xticks (np.arange(5),('USA','India', 'Japan','Chile','Mexico'), rotation = 45)\n",
        "plt.show()"
      ],
      "id": "b822fa17",
      "execution_count": null,
      "outputs": []
    },
    {
      "cell_type": "code",
      "metadata": {},
      "source": [
        "plt.barh(country,population)\n",
        "plt.show()"
      ],
      "id": "9b427c95",
      "execution_count": null,
      "outputs": []
    },
    {
      "cell_type": "markdown",
      "metadata": {},
      "source": [
        "### More Charts\n"
      ],
      "id": "bb858fd6"
    },
    {
      "cell_type": "code",
      "metadata": {},
      "source": [
        "plt.hist(data,bins=20) # bins = 10 (default)\n",
        "plt.show()"
      ],
      "id": "34de2443",
      "execution_count": null,
      "outputs": []
    },
    {
      "cell_type": "code",
      "metadata": {},
      "source": [
        "plt.hist(data,bins=20, histtype='step')\n",
        "plt.show()"
      ],
      "id": "26c65e9d",
      "execution_count": null,
      "outputs": []
    },
    {
      "cell_type": "code",
      "metadata": {},
      "source": [
        "# Adding an outlier\n",
        "data=np.append(data,200)\n",
        "plt.boxplot(data, vert=False, patch_artist=True, notch=True, showfliers=True)\n",
        "plt.show()"
      ],
      "id": "7fa22717",
      "execution_count": null,
      "outputs": []
    },
    {
      "cell_type": "markdown",
      "metadata": {},
      "source": [
        "### Scatter\n"
      ],
      "id": "c3b5c403"
    },
    {
      "cell_type": "code",
      "metadata": {},
      "source": [
        "N = 50\n",
        "x = np.random.rand(N)\n",
        "y = np.random.rand(N)\n",
        "area = (30* np.random.rand(N))**2\n",
        "colors = np.random.rand(N)\n",
        "\n",
        "plt.scatter(x,y, s=area, c=colors, marker='p', alpha=0.5)\n",
        "plt.show()"
      ],
      "id": "f79d7ad5",
      "execution_count": null,
      "outputs": []
    },
    {
      "cell_type": "markdown",
      "metadata": {},
      "source": [
        "## Seaborn\n"
      ],
      "id": "a153ab8e"
    },
    {
      "cell_type": "code",
      "metadata": {},
      "source": [
        "import seaborn as sns"
      ],
      "id": "d8f5bfb6",
      "execution_count": null,
      "outputs": []
    },
    {
      "cell_type": "code",
      "metadata": {},
      "source": [
        "sns.barplot(x=['A','B','C'], y=[1,2,3])\n",
        "plt.show()"
      ],
      "id": "46aa3eb2",
      "execution_count": null,
      "outputs": []
    },
    {
      "cell_type": "code",
      "metadata": {},
      "source": [
        "sns.set(style='dark', palette='deep')\n",
        "sns.barplot(x=['A','B','C'], y=[1,2,3])\n",
        "plt.show()"
      ],
      "id": "c117a194",
      "execution_count": null,
      "outputs": []
    },
    {
      "cell_type": "code",
      "metadata": {},
      "source": [
        "tips = sns.load_dataset('tips')\n",
        "tips.head()"
      ],
      "id": "48206423",
      "execution_count": null,
      "outputs": []
    },
    {
      "cell_type": "code",
      "metadata": {},
      "source": [
        "sns.displot(data=tips, x='total_bill')\n",
        "plt.show()"
      ],
      "id": "d53c965e",
      "execution_count": null,
      "outputs": []
    },
    {
      "cell_type": "code",
      "metadata": {},
      "source": [
        "sns.displot(data=tips, x='total_bill', y='tip')\n",
        "plt.show()"
      ],
      "id": "c6f08e8f",
      "execution_count": null,
      "outputs": []
    },
    {
      "cell_type": "code",
      "metadata": {},
      "source": [
        "sns.displot(data=tips, x='total_bill', y='tip', hue = 'sex')\n",
        "plt.show()"
      ],
      "id": "b6f20c05",
      "execution_count": null,
      "outputs": []
    },
    {
      "cell_type": "code",
      "metadata": {},
      "source": [
        "sns.displot(data=tips, x='total_bill', hue = 'sex')\n",
        "plt.show()"
      ],
      "id": "fd3bf866",
      "execution_count": null,
      "outputs": []
    },
    {
      "cell_type": "code",
      "metadata": {},
      "source": [
        "sns.displot(data=tips, x='total_bill', hue = 'sex', kind='kde')\n",
        "plt.show()"
      ],
      "id": "44d5dfde",
      "execution_count": null,
      "outputs": []
    },
    {
      "cell_type": "code",
      "metadata": {},
      "source": [
        "sns.histplot(data=tips, x='tip', bins =15, cumulative = False, hue='sex',\n",
        "    stat='probability', multiple='dodge') # multiple: stack, dodge, fill\n",
        "plt.show()"
      ],
      "id": "0674ed85",
      "execution_count": null,
      "outputs": []
    },
    {
      "cell_type": "code",
      "metadata": {},
      "source": [
        "sns.kdeplot(data=tips, x='tip',hue='sex')\n",
        "plt.show()"
      ],
      "id": "8b76d5de",
      "execution_count": null,
      "outputs": []
    },
    {
      "cell_type": "code",
      "metadata": {},
      "source": [
        "sns.kdeplot(data=tips, x='tip',hue='sex', cumulative = True)\n",
        "plt.show()"
      ],
      "id": "955bbcdf",
      "execution_count": null,
      "outputs": []
    },
    {
      "cell_type": "code",
      "metadata": {},
      "source": [
        "sns.kdeplot(data=tips, x='tip',hue='sex', cumulative = False, fill=True)\n",
        "plt.show()"
      ],
      "id": "3b83c59c",
      "execution_count": null,
      "outputs": []
    },
    {
      "cell_type": "code",
      "metadata": {},
      "source": [
        "sns.kdeplot(data=tips, x='tip',hue='sex', cumulative = False, fill=True)\n",
        "plt.show()"
      ],
      "id": "c107efd2",
      "execution_count": null,
      "outputs": []
    },
    {
      "cell_type": "markdown",
      "metadata": {},
      "source": [
        "### Categorical Variables\n"
      ],
      "id": "35f02d47"
    },
    {
      "cell_type": "code",
      "metadata": {},
      "source": [
        "sns.countplot(data=tips, x='day',hue='sex')\n",
        "plt.show()"
      ],
      "id": "063764c7",
      "execution_count": null,
      "outputs": []
    },
    {
      "cell_type": "code",
      "metadata": {},
      "source": [
        "sns.countplot(data=tips, y='day',hue='sex')\n",
        "plt.show()"
      ],
      "id": "5e5afe61",
      "execution_count": null,
      "outputs": []
    },
    {
      "cell_type": "code",
      "metadata": {},
      "source": [
        "sns.stripplot(data=tips, x='day', y='total_bill', hue='sex')\n",
        "plt.show()"
      ],
      "id": "9b789864",
      "execution_count": null,
      "outputs": []
    },
    {
      "cell_type": "code",
      "metadata": {},
      "source": [
        "sns.stripplot(data=tips, x='day', y='total_bill', hue='sex', dodge=True)\n",
        "plt.show()"
      ],
      "id": "0693415b",
      "execution_count": null,
      "outputs": []
    },
    {
      "cell_type": "code",
      "metadata": {},
      "source": [
        "sns.swarmplot(data=tips, x='day', y='total_bill', hue='sex', dodge=True)\n",
        "plt.show()"
      ],
      "id": "5fc0f3d3",
      "execution_count": null,
      "outputs": []
    },
    {
      "cell_type": "code",
      "metadata": {},
      "source": [
        "sns.boxplot(data=tips, x='day', y='total_bill', hue='sex', dodge=True)\n",
        "plt.show()"
      ],
      "id": "d5952546",
      "execution_count": null,
      "outputs": []
    },
    {
      "cell_type": "code",
      "metadata": {},
      "source": [
        "sns.swarmplot(data=tips, x='day', y='total_bill', hue='sex', dodge=True , color=\"0\")\n",
        "sns.boxplot(data=tips, x='day', y='total_bill', hue='sex', dodge=True)\n",
        "plt.show()"
      ],
      "id": "dd97485e",
      "execution_count": null,
      "outputs": []
    },
    {
      "cell_type": "code",
      "metadata": {},
      "source": [
        "sns.violinplot(data=tips, x='day', y='total_bill', hue='sex', dodge=True)\n",
        "plt.show()"
      ],
      "id": "15d2d04c",
      "execution_count": null,
      "outputs": []
    },
    {
      "cell_type": "code",
      "metadata": {},
      "source": [
        "sns.violinplot(data=tips, x='day', y='total_bill', hue='sex', split=True, dodge=True)\n",
        "plt.show()"
      ],
      "id": "0689a8b4",
      "execution_count": null,
      "outputs": []
    },
    {
      "cell_type": "code",
      "metadata": {},
      "source": [
        "sns.catplot(data=tips, x='day', y='total_bill', hue='sex', dodge=True,\n",
        "            kind='box', col='time')\n",
        "plt.show()"
      ],
      "id": "889a62f5",
      "execution_count": null,
      "outputs": []
    },
    {
      "cell_type": "markdown",
      "metadata": {},
      "source": [
        "### Relation Charts\n"
      ],
      "id": "0e21a910"
    },
    {
      "cell_type": "code",
      "metadata": {},
      "source": [
        "sns.scatterplot(data=tips,x='total_bill', y='tip', hue='day')\n",
        "plt.show()"
      ],
      "id": "6f11b8ab",
      "execution_count": null,
      "outputs": []
    },
    {
      "cell_type": "code",
      "metadata": {},
      "source": [
        "sns.scatterplot(data=tips,x='total_bill', y='tip', hue='day', style='time')\n",
        "plt.show()"
      ],
      "id": "aff9c66a",
      "execution_count": null,
      "outputs": []
    },
    {
      "cell_type": "code",
      "metadata": {},
      "source": [
        "sns.scatterplot(data=tips,x='total_bill', y='tip', hue='day', style='time', size='size')\n",
        "plt.legend(loc='center', bbox_to_anchor=(1.12,0.5))\n",
        "plt.show()"
      ],
      "id": "9562507f",
      "execution_count": null,
      "outputs": []
    },
    {
      "cell_type": "code",
      "metadata": {},
      "source": [
        "plt.figure(figsize=(8,8))\n",
        "markers={\"Lunch\":\"D\",\"Dinner\":\"s\"}\n",
        "sns.scatterplot(data=tips,x='total_bill', y='tip', hue='day',\n",
        "  style='time', size='size', markers=markers)\n",
        "plt.legend(loc='center', bbox_to_anchor=(1.12,0.5))\n",
        "plt.show()"
      ],
      "id": "0bf14484",
      "execution_count": null,
      "outputs": []
    },
    {
      "cell_type": "code",
      "metadata": {},
      "source": [
        "sns.relplot(data=tips,x='total_bill', y='tip', hue='day',\n",
        "  style='time', size='size', col='time')\n",
        "plt.show()"
      ],
      "id": "d4c6c1a7",
      "execution_count": null,
      "outputs": []
    },
    {
      "cell_type": "markdown",
      "metadata": {},
      "source": [
        "### Jointplot and Pairplot\n"
      ],
      "id": "33ddcc20"
    },
    {
      "cell_type": "code",
      "metadata": {},
      "source": [
        "sns.jointplot(data=tips, x='total_bill',y='tip')\n",
        "plt.show()"
      ],
      "id": "05b4584e",
      "execution_count": null,
      "outputs": []
    },
    {
      "cell_type": "code",
      "metadata": {},
      "source": [
        "sns.jointplot(data=tips, x='total_bill',y='tip', hue='sex')\n",
        "plt.show()"
      ],
      "id": "3145967d",
      "execution_count": null,
      "outputs": []
    },
    {
      "cell_type": "code",
      "metadata": {},
      "source": [
        "sns.jointplot(data=tips, x='total_bill',y='tip', hue='sex',\n",
        "              kind='hist')\n",
        "plt.show()"
      ],
      "id": "424a3ac7",
      "execution_count": null,
      "outputs": []
    },
    {
      "cell_type": "code",
      "metadata": {},
      "source": [
        "sns.pairplot(data=tips)\n",
        "plt.show()"
      ],
      "id": "0cc1196d",
      "execution_count": null,
      "outputs": []
    },
    {
      "cell_type": "code",
      "metadata": {},
      "source": [
        "sns.pairplot(data=tips, hue='sex')\n",
        "plt.show()"
      ],
      "id": "af7567cb",
      "execution_count": null,
      "outputs": []
    },
    {
      "cell_type": "markdown",
      "metadata": {},
      "source": [
        "### Heatmap\n"
      ],
      "id": "15e20e7a"
    },
    {
      "cell_type": "code",
      "metadata": {},
      "source": [
        "tips.corr(numeric_only=True)"
      ],
      "id": "c57ac09b",
      "execution_count": null,
      "outputs": []
    },
    {
      "cell_type": "code",
      "metadata": {},
      "source": [
        "sns.heatmap(tips.corr(numeric_only=True))\n",
        "plt.show()"
      ],
      "id": "0f9de0ed",
      "execution_count": null,
      "outputs": []
    },
    {
      "cell_type": "code",
      "metadata": {},
      "source": [
        "sns.heatmap(tips.corr(numeric_only=True), annot=True, cmap='coolwarm', linewidth=5, linecolor='black',\n",
        "            vmin=0.5, vmax=1, cbar=True)\n",
        "plt.show()"
      ],
      "id": "61e9d0cd",
      "execution_count": null,
      "outputs": []
    }
  ],
  "metadata": {
    "kernelspec": {
      "name": "python3",
      "language": "python",
      "display_name": "Python 3 (ipykernel)"
    }
  },
  "nbformat": 4,
  "nbformat_minor": 5
}